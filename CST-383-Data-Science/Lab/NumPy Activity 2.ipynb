{
  "nbformat": 4,
  "nbformat_minor": 0,
  "metadata": {
    "colab": {
      "provenance": []
    },
    "kernelspec": {
      "name": "python3",
      "display_name": "Python 3"
    },
    "language_info": {
      "name": "python"
    }
  },
  "cells": [
    {
      "cell_type": "markdown",
      "source": [
        "\n",
        "## Mulitdimensional NumPy arrays lab\n",
        "Enter your Python code after each prompt.\n",
        "\n",
        "@author: Glenn Bruns\n"
      ],
      "metadata": {
        "id": "xRVsPk_P10O8"
      }
    },
    {
      "cell_type": "code",
      "source": [
        "import random\n",
        "import numpy as np\n",
        "import pandas as pd"
      ],
      "metadata": {
        "id": "rW3VafYy2Stv"
      },
      "execution_count": null,
      "outputs": []
    },
    {
      "cell_type": "code",
      "source": [
        "#read student exam score data as a 2D NumPy array\n",
        "df = pd.read_csv(\"https://raw.githubusercontent.com/grbruns/cst383/master/sample-grades.csv\").values"
      ],
      "metadata": {
        "id": "lyif6vrp2ZpC"
      },
      "execution_count": null,
      "outputs": []
    },
    {
      "cell_type": "code",
      "source": [
        "#print the score for the first student (row 0) and the third problem (column 2)\n",
        "print(df[0,2])"
      ],
      "metadata": {
        "colab": {
          "base_uri": "https://localhost:8080/"
        },
        "id": "OhK2DHlh2xUd",
        "outputId": "a74dee87-c5aa-40cc-a97f-e4454993014a"
      },
      "execution_count": null,
      "outputs": [
        {
          "output_type": "stream",
          "name": "stdout",
          "text": [
            "0\n"
          ]
        }
      ]
    },
    {
      "cell_type": "code",
      "source": [
        "#print all scores for student 15 (meaning row 15)\n",
        "print(df[15])"
      ],
      "metadata": {
        "colab": {
          "base_uri": "https://localhost:8080/"
        },
        "id": "WtPfhW7L26F5",
        "outputId": "969d290c-260d-408d-f4bd-3d50f0b04a67"
      },
      "execution_count": null,
      "outputs": [
        {
          "output_type": "stream",
          "name": "stdout",
          "text": [
            "[3 2 0 3 0 3 1 0 3 0 0 3 3 3 3 0 3 3 3 3 3 3 3 3 1 3 3 3 1 0 0 0 0]\n"
          ]
        }
      ]
    },
    {
      "cell_type": "code",
      "source": [
        "#print all scores for problems 0-3\n",
        "print(df[::,0:4])"
      ],
      "metadata": {
        "colab": {
          "base_uri": "https://localhost:8080/"
        },
        "id": "leyDzWoA4YpZ",
        "outputId": "3b9c50ca-e698-4a5b-daed-a8a352ae254c"
      },
      "execution_count": null,
      "outputs": [
        {
          "output_type": "stream",
          "name": "stdout",
          "text": [
            "[[3 1 0 3]\n",
            " [3 2 0 3]\n",
            " [3 2 3 3]\n",
            " [3 2 0 3]\n",
            " [0 2 3 3]\n",
            " [0 1 3 3]\n",
            " [0 2 3 3]\n",
            " [3 3 3 3]\n",
            " [3 1 3 3]\n",
            " [0 2 3 3]\n",
            " [0 3 3 3]\n",
            " [3 2 3 3]\n",
            " [3 2 3 3]\n",
            " [3 3 3 3]\n",
            " [3 1 3 3]\n",
            " [3 2 0 3]\n",
            " [3 2 3 3]\n",
            " [3 3 3 3]\n",
            " [3 2 0 3]\n",
            " [0 3 3 3]\n",
            " [0 0 3 3]\n",
            " [3 2 3 3]\n",
            " [3 2 0 3]\n",
            " [0 1 3 3]\n",
            " [0 0 3 3]\n",
            " [3 1 3 3]\n",
            " [3 2 3 3]\n",
            " [0 2 3 3]\n",
            " [0 3 3 3]\n",
            " [0 2 0 3]\n",
            " [0 1 0 3]\n",
            " [3 2 0 3]\n",
            " [0 1 0 3]\n",
            " [3 2 3 3]\n",
            " [3 2 3 3]\n",
            " [3 2 3 3]\n",
            " [3 2 3 0]\n",
            " [3 3 3 3]\n",
            " [0 2 3 3]\n",
            " [0 2 3 3]\n",
            " [3 3 3 3]\n",
            " [3 2 0 3]\n",
            " [3 2 3 3]\n",
            " [3 2 3 3]\n",
            " [0 2 3 3]\n",
            " [3 2 3 3]\n",
            " [3 3 3 3]\n",
            " [3 2 3 3]\n",
            " [3 3 0 3]\n",
            " [3 0 0 3]]\n"
          ]
        }
      ]
    },
    {
      "cell_type": "code",
      "source": [
        "# print all scores for problems 1, 5, 7\n",
        "print(df[::,[1, 5, 7]])"
      ],
      "metadata": {
        "colab": {
          "base_uri": "https://localhost:8080/"
        },
        "id": "MwWN-Kcl42hn",
        "outputId": "3a245905-fe04-4451-dffa-1f497d612910"
      },
      "execution_count": null,
      "outputs": [
        {
          "output_type": "stream",
          "name": "stdout",
          "text": [
            "[[1 3 0]\n",
            " [2 3 3]\n",
            " [2 3 3]\n",
            " [2 3 3]\n",
            " [2 3 3]\n",
            " [1 3 3]\n",
            " [2 3 3]\n",
            " [3 3 3]\n",
            " [1 3 0]\n",
            " [2 3 0]\n",
            " [3 3 3]\n",
            " [2 3 3]\n",
            " [2 3 3]\n",
            " [3 3 3]\n",
            " [1 3 3]\n",
            " [2 3 0]\n",
            " [2 3 3]\n",
            " [3 3 3]\n",
            " [2 3 3]\n",
            " [3 3 0]\n",
            " [0 3 3]\n",
            " [2 0 3]\n",
            " [2 3 3]\n",
            " [1 3 3]\n",
            " [0 3 0]\n",
            " [1 3 0]\n",
            " [2 3 3]\n",
            " [2 3 3]\n",
            " [3 3 3]\n",
            " [2 3 3]\n",
            " [1 3 0]\n",
            " [2 3 3]\n",
            " [1 3 3]\n",
            " [2 3 3]\n",
            " [2 3 3]\n",
            " [2 3 3]\n",
            " [2 3 3]\n",
            " [3 3 3]\n",
            " [2 3 0]\n",
            " [2 3 3]\n",
            " [3 3 3]\n",
            " [2 3 3]\n",
            " [2 3 0]\n",
            " [2 3 0]\n",
            " [2 3 3]\n",
            " [2 3 0]\n",
            " [3 3 0]\n",
            " [2 3 3]\n",
            " [3 3 3]\n",
            " [0 0 3]]\n"
          ]
        }
      ]
    },
    {
      "cell_type": "code",
      "source": [
        "#assign the number of students to variable 'num_students'\n",
        "num_students = df.shape[0]"
      ],
      "metadata": {
        "id": "UrGSrndb96XG"
      },
      "execution_count": null,
      "outputs": []
    },
    {
      "cell_type": "code",
      "source": [
        "#run the following command to get random data representing scores\n",
        "#on two additional extra credit problems\n",
        "\n",
        "ec = np.random.choice(np.array([0,1,2,3], dtype='int64'), size=num_students*2).reshape(num_students, 2)"
      ],
      "metadata": {
        "id": "jrg80jMA-GZx"
      },
      "execution_count": null,
      "outputs": []
    },
    {
      "cell_type": "code",
      "source": [
        "#print the shape of ec\n",
        "print(ec.shape)"
      ],
      "metadata": {
        "colab": {
          "base_uri": "https://localhost:8080/"
        },
        "id": "Zc6QQXkR-vuM",
        "outputId": "c2c106de-e226-4b5c-c8f2-8dcae683e080"
      },
      "execution_count": null,
      "outputs": [
        {
          "output_type": "stream",
          "name": "stdout",
          "text": [
            "(50, 2)\n"
          ]
        }
      ]
    },
    {
      "cell_type": "code",
      "source": [
        "#update df so that the two rightmost columns are the data in array ec\n",
        "df[:,31:33] = ec"
      ],
      "metadata": {
        "id": "lw12mXhw-znk"
      },
      "execution_count": null,
      "outputs": []
    },
    {
      "cell_type": "code",
      "source": [
        "#print the mean value of all the scores\n",
        "print(np.mean(df))"
      ],
      "metadata": {
        "colab": {
          "base_uri": "https://localhost:8080/"
        },
        "id": "Fb0_e4ic_NA_",
        "outputId": "8970b726-ce03-4c26-9c40-cfb5f89635e9"
      },
      "execution_count": null,
      "outputs": [
        {
          "output_type": "stream",
          "name": "stdout",
          "text": [
            "2.0503030303030303\n"
          ]
        }
      ]
    },
    {
      "cell_type": "code",
      "source": [
        "# print the number of scores > 2 (np.sum applied to a boolean mask will\n",
        "# give the number of True values in the mask))\n",
        "print(np.sum(df > 2))"
      ],
      "metadata": {
        "colab": {
          "base_uri": "https://localhost:8080/"
        },
        "id": "allqkSJK_SlU",
        "outputId": "d82ba038-ecc5-4b4a-a250-76ef7bad47e2"
      },
      "execution_count": null,
      "outputs": [
        {
          "output_type": "stream",
          "name": "stdout",
          "text": [
            "994\n"
          ]
        }
      ]
    },
    {
      "cell_type": "code",
      "source": [
        "# using a list comprehension, compute the total score for each student\n",
        "# and assign the result to variable 'totals' as a NumPy array\n",
        "totals = np.array([np.sum(scores) for scores in df])"
      ],
      "metadata": {
        "id": "0CU6wFsq_Yib"
      },
      "execution_count": null,
      "outputs": []
    },
    {
      "cell_type": "code",
      "source": [
        "#print the dtype of totals; it should be int64\n",
        "print(totals.dtype)"
      ],
      "metadata": {
        "colab": {
          "base_uri": "https://localhost:8080/"
        },
        "id": "eA4vxVspKouh",
        "outputId": "f9f2bcc7-db31-4001-cf91-715f18375522"
      },
      "execution_count": null,
      "outputs": [
        {
          "output_type": "stream",
          "name": "stdout",
          "text": [
            "int64\n"
          ]
        }
      ]
    },
    {
      "cell_type": "code",
      "source": [
        "#assign the number of columns to variable 'num_problems'\n",
        "num_problems = df.shape[1]"
      ],
      "metadata": {
        "id": "O22mhy-2Kzby"
      },
      "execution_count": null,
      "outputs": []
    },
    {
      "cell_type": "code",
      "source": [
        "# using a list comprehension, compute the average score for each \n",
        "# problem and assign the result to variable 'prob_means' as a NumPy array\n",
        "prob_means = np.array([sum(problem) / len(df) for problem in zip(*df)])"
      ],
      "metadata": {
        "id": "auZyimMnLAkb"
      },
      "execution_count": null,
      "outputs": []
    },
    {
      "cell_type": "code",
      "source": [
        "# what is the lowest of the average score values?\n",
        "print(np.min(prob_means))"
      ],
      "metadata": {
        "colab": {
          "base_uri": "https://localhost:8080/"
        },
        "id": "X2Lqek7FLtXY",
        "outputId": "f8fb3f1e-9519-4d3e-eb54-d7c0333f4650"
      },
      "execution_count": null,
      "outputs": [
        {
          "output_type": "stream",
          "name": "stdout",
          "text": [
            "0.68\n"
          ]
        }
      ]
    },
    {
      "cell_type": "code",
      "source": [
        "# Is it legal to subtract an array with shape (35, ) from an \n",
        "# array with shape (50, 35)?  If so, what will happen? Write\n",
        "# your answer as a comment.\n",
        "\n",
        "# The array (35, ) will become (1, 35), and will be subtracted\n",
        "# each row of the (50, 35) array\n"
      ],
      "metadata": {
        "id": "yrQzAdFPL0lW"
      },
      "execution_count": null,
      "outputs": []
    },
    {
      "cell_type": "code",
      "source": [
        "# compute a new array df_centered, which is a 2D array with\n",
        "# the same shape as df , but contains, for each column, the \n",
        "# column values minus the average value for each column.\n",
        "df_centered = df - prob_means"
      ],
      "metadata": {
        "id": "L544HTExMqz5"
      },
      "execution_count": null,
      "outputs": []
    },
    {
      "cell_type": "code",
      "source": [
        "# What do you expect as the average values of the columns of\n",
        "# dat_centered? Print the result to find out. \n",
        "print(np.array([df_centered.mean(axis=1)]))"
      ],
      "metadata": {
        "colab": {
          "base_uri": "https://localhost:8080/"
        },
        "id": "u6PnubkGM6hS",
        "outputId": "2715a285-d6d0-42cb-8ada-d099baf295f9"
      },
      "execution_count": null,
      "outputs": [
        {
          "output_type": "stream",
          "name": "stdout",
          "text": [
            "[[ 0.16181818 -0.08060606  0.64666667 -0.14121212 -0.7169697  -0.65636364\n",
            "  -0.20181818  0.34363636  0.52545455 -0.77757576 -0.44424242 -0.05030303\n",
            "   0.22242424  0.46484848  0.16181818 -0.11090909  0.73757576  0.40424242\n",
            "   0.19212121  0.52545455 -0.17151515  0.34363636 -0.23212121 -0.05030303\n",
            "  -0.59575758  0.49515152  0.31333333  0.04060606  0.55575758 -0.50484848\n",
            "  -0.17151515  0.25272727 -0.20181818  0.10121212  0.34363636  0.61636364\n",
            "  -0.35333333  0.34363636 -0.17151515  0.22242424  0.16181818 -0.17151515\n",
            "  -0.38363636 -0.41393939 -0.56545455 -0.17151515 -0.11090909  0.10121212\n",
            "  -0.05030303 -0.77757576]]\n"
          ]
        }
      ]
    },
    {
      "cell_type": "code",
      "source": [
        "# consider extending idea about length of student trips, but make a matrix, \n",
        "# where each row is a student, and 'mpg', 'miles; are columns. In a separate\n",
        "# array, show prices of gas as several gas stations."
      ],
      "metadata": {
        "id": "c4Pj3OXRNTUG"
      },
      "execution_count": null,
      "outputs": []
    }
  ]
}