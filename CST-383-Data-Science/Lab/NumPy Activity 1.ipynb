{
  "cells": [
    {
      "cell_type": "markdown",
      "metadata": {
        "id": "bUpaT2av5c2R"
      },
      "source": [
        "# NumPy arrays lab\n",
        "\n",
        "Enter your code below each comment\n",
        "\n"
      ]
    },
    {
      "cell_type": "code",
      "execution_count": null,
      "metadata": {
        "id": "2FXebNIh53WJ"
      },
      "outputs": [],
      "source": [
        "import random\n",
        "import numpy as np"
      ]
    },
    {
      "cell_type": "markdown",
      "metadata": {
        "id": "12QFZc9F6G54"
      },
      "source": [
        "Here is a list of the mileage (given in MPG) of students in my last class: 21.1, 26.6, 16.3, 33.7, 31.2, 52.0, 27.1\n",
        "\n",
        "Create a NumPy array named 'mpg' from these values (use the given order)."
      ]
    },
    {
      "cell_type": "code",
      "execution_count": null,
      "metadata": {
        "id": "0aXxRTGaguUq"
      },
      "outputs": [],
      "source": [
        "mpg = np.array([21.1, 26.6, 16.3, 33.7, 31.2, 52.0, 27.1])"
      ]
    },
    {
      "cell_type": "markdown",
      "metadata": {
        "id": "3dc6T9KBgzO7"
      },
      "source": [
        "Create a new array x that has the same length as mpg but every value is 25.0  (use the NumPy size property of mpg)."
      ]
    },
    {
      "cell_type": "code",
      "execution_count": null,
      "metadata": {
        "id": "8xLU_nSzg6rK"
      },
      "outputs": [],
      "source": [
        "x = np.full(mpg.size, 25.0)"
      ]
    },
    {
      "cell_type": "markdown",
      "metadata": {
        "id": "52oENWulg7fq"
      },
      "source": [
        "print the mileage of the third student"
      ]
    },
    {
      "cell_type": "code",
      "execution_count": null,
      "metadata": {
        "colab": {
          "base_uri": "https://localhost:8080/"
        },
        "id": "2u6ytE7phBc6",
        "outputId": "47204fe5-e299-4e49-9992-c90b7e9ca7cd"
      },
      "outputs": [
        {
          "output_type": "stream",
          "name": "stdout",
          "text": [
            "16.3\n"
          ]
        }
      ],
      "source": [
        "print(mpg[2])"
      ]
    },
    {
      "cell_type": "markdown",
      "metadata": {
        "id": "7SbD-Z2KhCFC"
      },
      "source": [
        "print the mileage of the last student"
      ]
    },
    {
      "cell_type": "code",
      "execution_count": null,
      "metadata": {
        "colab": {
          "base_uri": "https://localhost:8080/"
        },
        "id": "mBN0CuR2hERC",
        "outputId": "d4a384ff-b958-4548-f189-64b3a722a33e"
      },
      "outputs": [
        {
          "output_type": "stream",
          "name": "stdout",
          "text": [
            "27.1\n"
          ]
        }
      ],
      "source": [
        "print(mpg[-1])"
      ]
    },
    {
      "cell_type": "markdown",
      "metadata": {
        "id": "DahQZL4dhEzL"
      },
      "source": [
        "print the mileage of the first to the third students"
      ]
    },
    {
      "cell_type": "code",
      "execution_count": null,
      "metadata": {
        "colab": {
          "base_uri": "https://localhost:8080/"
        },
        "id": "v6SvzhOuhI-6",
        "outputId": "e3eb14f0-b069-484e-c5e3-81e49c0fb85d"
      },
      "outputs": [
        {
          "output_type": "stream",
          "name": "stdout",
          "text": [
            "[21.1 16.3]\n"
          ]
        }
      ],
      "source": [
        "print(mpg[[0,2]])"
      ]
    },
    {
      "cell_type": "markdown",
      "metadata": {
        "id": "urgmqUD0hNyq"
      },
      "source": [
        "print the mileage of every other student, starting with the first"
      ]
    },
    {
      "cell_type": "code",
      "execution_count": null,
      "metadata": {
        "colab": {
          "base_uri": "https://localhost:8080/"
        },
        "id": "AolY0Sa8hQM-",
        "outputId": "7c283713-5816-4699-eec4-cb25cacbdfae"
      },
      "outputs": [
        {
          "output_type": "stream",
          "name": "stdout",
          "text": [
            "[21.1 16.3 31.2 27.1]\n"
          ]
        }
      ],
      "source": [
        "print(mpg[::2])"
      ]
    },
    {
      "cell_type": "markdown",
      "metadata": {
        "id": "eRT2aR-WhJh6"
      },
      "source": [
        " Can you print the same mileages, but in reverse order?"
      ]
    },
    {
      "cell_type": "code",
      "execution_count": null,
      "metadata": {
        "colab": {
          "base_uri": "https://localhost:8080/"
        },
        "id": "gbda8QREhUe5",
        "outputId": "8f364230-3efd-4123-d5c5-4452bc8e2979"
      },
      "outputs": [
        {
          "output_type": "stream",
          "name": "stdout",
          "text": [
            "[27.1 31.2 16.3 21.1]\n"
          ]
        }
      ],
      "source": [
        "print(mpg[::-2])"
      ]
    },
    {
      "cell_type": "markdown",
      "metadata": {
        "id": "VmcR2J2ZhVE7"
      },
      "source": [
        " make a copy of mpg, named mpg2"
      ]
    },
    {
      "cell_type": "code",
      "execution_count": null,
      "metadata": {
        "id": "xEvXANdwhXsS"
      },
      "outputs": [],
      "source": [
        "mpg2 = mpg.copy()"
      ]
    },
    {
      "cell_type": "markdown",
      "metadata": {
        "id": "uCoRYu_AhYQK"
      },
      "source": [
        "print the concatenation of mpg and mpg2\n"
      ]
    },
    {
      "cell_type": "code",
      "execution_count": null,
      "metadata": {
        "colab": {
          "base_uri": "https://localhost:8080/"
        },
        "id": "L5MB1pFphbkh",
        "outputId": "5913815a-763e-407f-e294-4bf992603631"
      },
      "outputs": [
        {
          "output_type": "stream",
          "name": "stdout",
          "text": [
            "[21.1 26.6 16.3 33.7 31.2 52.  27.1 21.1 26.6 16.3 33.7 31.2 52.  27.1]\n"
          ]
        }
      ],
      "source": [
        "print(np.concatenate([mpg, mpg2]))"
      ]
    },
    {
      "cell_type": "markdown",
      "metadata": {
        "id": "QEHN1GOwhcdC"
      },
      "source": [
        "print the data type (dtype) of mpg"
      ]
    },
    {
      "cell_type": "code",
      "execution_count": null,
      "metadata": {
        "colab": {
          "base_uri": "https://localhost:8080/"
        },
        "id": "LMNbdGCghetC",
        "outputId": "6b28cd5f-a720-4129-e87d-24789a295f70"
      },
      "outputs": [
        {
          "output_type": "stream",
          "name": "stdout",
          "text": [
            "float64\n"
          ]
        }
      ],
      "source": [
        "print(mpg.dtype)"
      ]
    },
    {
      "cell_type": "markdown",
      "metadata": {
        "id": "yk5cTRaQhfgU"
      },
      "source": [
        "add 5.0 to every element of mpg2"
      ]
    },
    {
      "cell_type": "code",
      "execution_count": null,
      "metadata": {
        "id": "RuexJEf5hhjC"
      },
      "outputs": [],
      "source": [
        "mpg2 = 5 + mpg2"
      ]
    },
    {
      "cell_type": "markdown",
      "metadata": {
        "id": "8evL2otqhiES"
      },
      "source": [
        "Create a NumPy array 'miles' giving the distances each student has to travel to CSUMB.  The values are:\n",
        "\n",
        "8.1, 5.4, 12.8, 42.1, 15.0, 22.2, 18.5"
      ]
    },
    {
      "cell_type": "code",
      "execution_count": null,
      "metadata": {
        "id": "L8hvrjGPhnMC"
      },
      "outputs": [],
      "source": [
        "miles = np.array([8.1, 5.4, 12.8, 42.1, 15.0, 22.2, 18.5])"
      ]
    },
    {
      "cell_type": "markdown",
      "metadata": {
        "id": "Qm7_XikZhnta"
      },
      "source": [
        "The gallons used by a student in a round trip to CSUMB is the round-trip distance divided by miles-per-gallon.  Using vectorized operations, compute the number of gallons used by each student in a round trip to CSUMB.  Assign the result to variable 'gallons'.\n"
      ]
    },
    {
      "cell_type": "code",
      "execution_count": null,
      "metadata": {
        "id": "YQoRqyVrhtKS"
      },
      "outputs": [],
      "source": [
        "gallons = mpg/miles"
      ]
    },
    {
      "cell_type": "markdown",
      "metadata": {
        "id": "KjkqPqOuht2i"
      },
      "source": [
        " Create a boolean array that is True for every element of gallons that is less than 1.  Assign it to variable 'low_gas'."
      ]
    },
    {
      "cell_type": "code",
      "execution_count": null,
      "metadata": {
        "id": "UfuWqidAhxiy"
      },
      "outputs": [],
      "source": [
        "low_gas = gallons < 1"
      ]
    },
    {
      "cell_type": "markdown",
      "metadata": {
        "id": "ZT8_WAPuhyXa"
      },
      "source": [
        "Use a boolean mask to get the values in gallons that are less than 1"
      ]
    },
    {
      "cell_type": "markdown",
      "metadata": {
        "id": "8uzJZ7_yh1sy"
      },
      "source": [
        "Run the following line of code, which creates an array of a million random numbers between 0 and 1."
      ]
    },
    {
      "cell_type": "code",
      "execution_count": null,
      "metadata": {
        "id": "S8Ll0iQ7h1P6"
      },
      "outputs": [],
      "source": [
        "x = np.full(1000000, random.random())"
      ]
    },
    {
      "cell_type": "markdown",
      "metadata": {
        "id": "gkz6Sv-Ch9uL"
      },
      "source": [
        " write a python loop to compute the sum of the values in x"
      ]
    },
    {
      "cell_type": "code",
      "execution_count": null,
      "metadata": {
        "id": "l4Ev6ABXiAHj"
      },
      "outputs": [],
      "source": [
        "sum = 0\n",
        "for num in x:\n",
        "  sum += num"
      ]
    },
    {
      "cell_type": "markdown",
      "metadata": {
        "id": "7VO0HQDeiAxC"
      },
      "source": [
        "Define a Python function named 'array_sum' that will return the sum of the specified NumPy array x.\n"
      ]
    },
    {
      "cell_type": "code",
      "execution_count": null,
      "metadata": {
        "id": "W4infKheiFdK"
      },
      "outputs": [],
      "source": [
        "def array_sum(arr):\n",
        "  sum = 0\n",
        "  for num in arr:\n",
        "    sum += num"
      ]
    },
    {
      "cell_type": "markdown",
      "metadata": {
        "id": "F_uCrF_-iGJS"
      },
      "source": [
        "Measure how long it takes for your function to sum the elements of the big array x you defined earlier.\n",
        "\n",
        "hint: use %timeit"
      ]
    },
    {
      "cell_type": "code",
      "execution_count": null,
      "metadata": {
        "colab": {
          "base_uri": "https://localhost:8080/"
        },
        "id": "E4b38ggLiMJq",
        "outputId": "0cbb1727-3ef3-43e2-c59a-01b4d9691af7"
      },
      "outputs": [
        {
          "output_type": "stream",
          "name": "stdout",
          "text": [
            "126 ms ± 23.1 ms per loop (mean ± std. dev. of 7 runs, 10 loops each)\n"
          ]
        }
      ],
      "source": [
        "%timeit array_sum(x)"
      ]
    },
    {
      "cell_type": "markdown",
      "metadata": {
        "id": "FEM6PHRUiOuD"
      },
      "source": [
        "now measure how long it takes to do the same thing using np.sum"
      ]
    },
    {
      "cell_type": "code",
      "execution_count": null,
      "metadata": {
        "colab": {
          "base_uri": "https://localhost:8080/"
        },
        "id": "oRUT2ZV_iQMK",
        "outputId": "0fb4fe4a-c22e-4d70-a2a5-342617502329"
      },
      "outputs": [
        {
          "output_type": "stream",
          "name": "stdout",
          "text": [
            "360 µs ± 17.8 µs per loop (mean ± std. dev. of 7 runs, 1000 loops each)\n"
          ]
        }
      ],
      "source": [
        "%timeit np.sum(x)"
      ]
    },
    {
      "cell_type": "markdown",
      "metadata": {
        "id": "ohsEFwrsiQsL"
      },
      "source": [
        "write code to show that slicing does not copy the input data"
      ]
    },
    {
      "cell_type": "code",
      "execution_count": null,
      "metadata": {
        "colab": {
          "base_uri": "https://localhost:8080/"
        },
        "id": "vAXxl17liVx6",
        "outputId": "21e96436-d953-493b-9fa5-af6e798965cc"
      },
      "outputs": [
        {
          "output_type": "stream",
          "name": "stdout",
          "text": [
            "[26.1 31.6 21.3 38.7 36.2 57.  32.1]\n",
            "[31.6 38.7 57. ]\n",
            "[ 26.1  31.6  21.3  38.7  36.2 999.   32.1]\n"
          ]
        }
      ],
      "source": [
        "print(mpg2)\n",
        "mpg_slice = mpg2[1::2]\n",
        "print(mpg_slice)\n",
        "mpg_slice[-1] = 999\n",
        "print(mpg2)"
      ]
    },
    {
      "cell_type": "markdown",
      "metadata": {
        "id": "FfJbtgsJiW20"
      },
      "source": [
        "If you still have time, learn about some of the \"magic commands\" available in IPython.\n",
        "\n",
        "https://ipython.org/ipython-doc/3/interactive/magics.html"
      ]
    }
  ],
  "metadata": {
    "colab": {
      "provenance": []
    },
    "kernelspec": {
      "display_name": "Python 3",
      "language": "python",
      "name": "python3"
    },
    "language_info": {
      "codemirror_mode": {
        "name": "ipython",
        "version": 3
      },
      "file_extension": ".py",
      "mimetype": "text/x-python",
      "name": "python",
      "nbconvert_exporter": "python",
      "pygments_lexer": "ipython3",
      "version": "3.7.3"
    }
  },
  "nbformat": 4,
  "nbformat_minor": 0
}